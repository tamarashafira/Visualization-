{
 "cells": [
  {
   "cell_type": "markdown",
   "metadata": {},
   "source": [
    "# Visualizing linear relationships"
   ]
  },
  {
   "cell_type": "code",
   "execution_count": 3,
   "metadata": {},
   "outputs": [],
   "source": [
    "import numpy as np\n",
    "import seaborn as sns\n",
    "import matplotlib.pyplot as plt"
   ]
  },
  {
   "cell_type": "code",
   "execution_count": 4,
   "metadata": {},
   "outputs": [],
   "source": [
    "sns.set(color_codes=True)"
   ]
  },
  {
   "cell_type": "markdown",
   "metadata": {},
   "source": [
    "untuk mengimpor dataset Seaborn mempunyai beberapa dataset bawaan yang telah diinstal secara otomatis"
   ]
  },
  {
   "cell_type": "code",
   "execution_count": 5,
   "metadata": {},
   "outputs": [
    {
     "name": "stderr",
     "output_type": "stream",
     "text": [
      "C:\\Users\\ASUS\\Anaconda3\\lib\\site-packages\\seaborn\\utils.py:376: UserWarning: No parser was explicitly specified, so I'm using the best available HTML parser for this system (\"lxml\"). This usually isn't a problem, but if you run this code on another system, or in a different virtual environment, it may use a different parser and behave differently.\n",
      "\n",
      "The code that caused this warning is on line 376 of the file C:\\Users\\ASUS\\Anaconda3\\lib\\site-packages\\seaborn\\utils.py. To get rid of this warning, pass the additional argument 'features=\"lxml\"' to the BeautifulSoup constructor.\n",
      "\n",
      "  gh_list = BeautifulSoup(http)\n"
     ]
    },
    {
     "name": "stdout",
     "output_type": "stream",
     "text": [
      "['anagrams', 'anscombe', 'attention', 'brain_networks', 'car_crashes', 'diamonds', 'dots', 'exercise', 'flights', 'fmri', 'gammas', 'geyser', 'iris', 'mpg', 'penguins', 'planets', 'tips', 'titanic']\n"
     ]
    }
   ],
   "source": [
    "#Untuk melihat berbagai dataset bawaan yang terdapat dalam seaborn\n",
    "print(sns.get_dataset_names())"
   ]
  },
  {
   "cell_type": "code",
   "execution_count": 6,
   "metadata": {},
   "outputs": [
    {
     "data": {
      "text/html": [
       "<div>\n",
       "<style scoped>\n",
       "    .dataframe tbody tr th:only-of-type {\n",
       "        vertical-align: middle;\n",
       "    }\n",
       "\n",
       "    .dataframe tbody tr th {\n",
       "        vertical-align: top;\n",
       "    }\n",
       "\n",
       "    .dataframe thead th {\n",
       "        text-align: right;\n",
       "    }\n",
       "</style>\n",
       "<table border=\"1\" class=\"dataframe\">\n",
       "  <thead>\n",
       "    <tr style=\"text-align: right;\">\n",
       "      <th></th>\n",
       "      <th>total_bill</th>\n",
       "      <th>tip</th>\n",
       "      <th>sex</th>\n",
       "      <th>smoker</th>\n",
       "      <th>day</th>\n",
       "      <th>time</th>\n",
       "      <th>size</th>\n",
       "    </tr>\n",
       "  </thead>\n",
       "  <tbody>\n",
       "    <tr>\n",
       "      <th>0</th>\n",
       "      <td>16.99</td>\n",
       "      <td>1.01</td>\n",
       "      <td>Female</td>\n",
       "      <td>No</td>\n",
       "      <td>Sun</td>\n",
       "      <td>Dinner</td>\n",
       "      <td>2</td>\n",
       "    </tr>\n",
       "    <tr>\n",
       "      <th>1</th>\n",
       "      <td>10.34</td>\n",
       "      <td>1.66</td>\n",
       "      <td>Male</td>\n",
       "      <td>No</td>\n",
       "      <td>Sun</td>\n",
       "      <td>Dinner</td>\n",
       "      <td>3</td>\n",
       "    </tr>\n",
       "    <tr>\n",
       "      <th>2</th>\n",
       "      <td>21.01</td>\n",
       "      <td>3.50</td>\n",
       "      <td>Male</td>\n",
       "      <td>No</td>\n",
       "      <td>Sun</td>\n",
       "      <td>Dinner</td>\n",
       "      <td>3</td>\n",
       "    </tr>\n",
       "    <tr>\n",
       "      <th>3</th>\n",
       "      <td>23.68</td>\n",
       "      <td>3.31</td>\n",
       "      <td>Male</td>\n",
       "      <td>No</td>\n",
       "      <td>Sun</td>\n",
       "      <td>Dinner</td>\n",
       "      <td>2</td>\n",
       "    </tr>\n",
       "    <tr>\n",
       "      <th>4</th>\n",
       "      <td>24.59</td>\n",
       "      <td>3.61</td>\n",
       "      <td>Female</td>\n",
       "      <td>No</td>\n",
       "      <td>Sun</td>\n",
       "      <td>Dinner</td>\n",
       "      <td>4</td>\n",
       "    </tr>\n",
       "  </tbody>\n",
       "</table>\n",
       "</div>"
      ],
      "text/plain": [
       "   total_bill   tip     sex smoker  day    time  size\n",
       "0       16.99  1.01  Female     No  Sun  Dinner     2\n",
       "1       10.34  1.66    Male     No  Sun  Dinner     3\n",
       "2       21.01  3.50    Male     No  Sun  Dinner     3\n",
       "3       23.68  3.31    Male     No  Sun  Dinner     2\n",
       "4       24.59  3.61  Female     No  Sun  Dinner     4"
      ]
     },
     "execution_count": 6,
     "metadata": {},
     "output_type": "execute_result"
    }
   ],
   "source": [
    "tips = sns.load_dataset(\"tips\")\n",
    "tips.head()"
   ]
  },
  {
   "cell_type": "markdown",
   "metadata": {},
   "source": [
    "# Functions to draw linear regression models"
   ]
  },
  {
   "cell_type": "markdown",
   "metadata": {},
   "source": [
    "Dua fungsi utama dalam seaborn digunakan untuk memvisualisasikan hubungan linear sebagaimana ditentukan melalui regresi. Fungsi-fungsi ini, regplot () dan lmplot () terkait erat, dan berbagi banyak fungsi inti mereka. Namun, penting untuk memahami perbedaannya, sehingga Anda dapat dengan cepat memilih alat yang tepat untuk pekerjaan tertentu.\n",
    "\n",
    "Dalam doa paling sederhana, kedua fungsi menggambar sebaris dua variabel, x dan y, dan kemudian cocok dengan model regresi y ~ x dan plot garis regresi yang dihasilkan dan interval kepercayaan 95% untuk regresi itu:"
   ]
  },
  {
   "cell_type": "markdown",
   "metadata": {},
   "source": [
    "Fungsi regplot() dan lmplot() menggunakan kedua fungsi tersebut UNTUK menampilkan grafik regresi linear, dari grafik yg \n",
    "menggunakan regplot() dan lmplot() yang tampak identik hanya saja tedapat perbedaan dari segi ukuran saja"
   ]
  },
  {
   "cell_type": "code",
   "execution_count": 7,
   "metadata": {},
   "outputs": [
    {
     "data": {
      "image/png": "[encoded data removed]",
      "text/plain": [
       "<Figure size 432x288 with 1 Axes>"
      ]
     },
     "metadata": {},
     "output_type": "display_data"
    }
   ],
   "source": [
    "sns.regplot(x=\"total_bill\", y=\"tip\", data=tips);"
   ]
  },
  {
   "cell_type": "code",
   "execution_count": 8,
   "metadata": {},
   "outputs": [
    {
     "data": {
      "image/png": "[encoded data removed]",
      "text/plain": [
       "<Figure size 360x360 with 1 Axes>"
      ]
     },
     "metadata": {},
     "output_type": "display_data"
    }
   ],
   "source": [
    "sns.lmplot(x=\"total_bill\", y=\"tip\", data=tips);"
   ]
  },
  {
   "cell_type": "markdown",
   "metadata": {},
   "source": [
    "Anda harus mencatat bahwa plot yang dihasilkan identik, kecuali bahwa bentuk gambarnya berbeda. Kami akan menjelaskan mengapa ini tidak lama. Untuk saat ini, perbedaan utama lainnya yang perlu diketahui adalah regplot () menerima variabel x dan y dalam berbagai format termasuk array numpy sederhana, objek Seri panda, atau sebagai referensi ke variabel dalam objek DataFrame panda yang diteruskan ke data. Sebaliknya, lmplot () memiliki data sebagai parameter yang diperlukan dan variabel x dan y harus ditentukan sebagai string. Format data ini disebut data \"bentuk panjang\" atau \"rapi\". Selain fleksibilitas input ini, regplot () memiliki subset fitur lmplot (), jadi kami akan mendemonstrasikannya menggunakan yang terakhir.\n",
    "\n",
    "Dimungkinkan untuk menyesuaikan dengan regresi linier ketika salah satu variabel mengambil nilai diskrit, namun, sebar sederhana yang dihasilkan oleh jenis dataset ini sering tidak optimal:"
   ]
  },
  {
   "cell_type": "code",
   "execution_count": 9,
   "metadata": {},
   "outputs": [
    {
     "data": {
      "image/png": "[encoded data removed]",
      "text/plain": [
       "<Figure size 360x360 with 1 Axes>"
      ]
     },
     "metadata": {},
     "output_type": "display_data"
    }
   ],
   "source": [
    "# melakukan pemodelan regresi linear pada dua variabel dimana salah satunya peubahnya besifat diskrit\n",
    "sns.lmplot(x=\"size\", y=\"tip\", data=tips);"
   ]
  },
  {
   "cell_type": "markdown",
   "metadata": {},
   "source": [
    "\n",
    "Salah satu opsi adalah menambahkan beberapa noise acak (\"jitter\") ke nilai diskrit untuk membuat distribusi nilai-nilai itu lebih jelas. Perhatikan bahwa jitter hanya diterapkan pada data sebar dan tidak memengaruhi garis regresi sesuai dengan sendirinya:"
   ]
  },
  {
   "cell_type": "markdown",
   "metadata": {},
   "source": [
    "Salah satu opsi adalah menambahkan beberapa noise acak (\"jitter\") ke nilai diskrit untuk membuat distribusi nilai-nilai itu lebih jelas."
   ]
  },
  {
   "cell_type": "code",
   "execution_count": 10,
   "metadata": {},
   "outputs": [
    {
     "data": {
      "image/png": "[encoded data removed]",
      "text/plain": [
       "<Figure size 360x360 with 1 Axes>"
      ]
     },
     "metadata": {},
     "output_type": "display_data"
    }
   ],
   "source": [
    "sns.lmplot(x=\"size\", y=\"tip\", data=tips, x_jitter=.09);"
   ]
  },
  {
   "cell_type": "markdown",
   "metadata": {},
   "source": [
    "\n",
    "Pilihan kedua adalah merobohkan pengamatan di masing-masing tempat terpisah untuk memplot estimasi kecenderungan sentral bersama dengan interval kepercayaan:"
   ]
  },
  {
   "cell_type": "code",
   "execution_count": 11,
   "metadata": {},
   "outputs": [
    {
     "data": {
      "image/png": "[encoded data removed]",
      "text/plain": [
       "<Figure size 360x360 with 1 Axes>"
      ]
     },
     "metadata": {},
     "output_type": "display_data"
    }
   ],
   "source": [
    "# x_estimator=np.mean= Mmenghitung nilai rata-rata dari estimasi x\n",
    "\n",
    "sns.lmplot(x=\"size\", y=\"tip\", data=tips, x_estimator=np.mean);"
   ]
  },
  {
   "cell_type": "markdown",
   "metadata": {},
   "source": [
    "# Fitting different kinds of models"
   ]
  },
  {
   "cell_type": "markdown",
   "metadata": {},
   "source": [
    "\n",
    "Model regresi linier sederhana yang digunakan di atas sangat sederhana untuk dicocokkan, namun, itu tidak sesuai untuk beberapa jenis dataset. Dataset kuartet Anscombe menunjukkan beberapa contoh di mana regresi linier sederhana memberikan perkiraan hubungan yang identik di mana inspeksi visual sederhana jelas menunjukkan perbedaan. Misalnya, dalam kasus pertama, regresi linier adalah model yang baik:"
   ]
  },
  {
   "cell_type": "code",
   "execution_count": null,
   "metadata": {},
   "outputs": [],
   "source": [
    "# menampilkan data anscombe, data ini bersifat non linear\n",
    "anscombe = sns.load_dataset(\"anscombe\")\n",
    "anscombe.tail()"
   ]
  },
  {
   "cell_type": "code",
   "execution_count": null,
   "metadata": {},
   "outputs": [],
   "source": [
    "#Menampilkan dataset 1 pada data anscombe\n",
    "sns.lmplot(x=\"x\", y=\"y\", data=anscombe.query(\"dataset == 'I'\"),\n",
    "           ci=None, scatter_kws={\"s\": 50});\n",
    "# 80 merupakan ukuran sebaran pada scaterplot \n",
    "# Query adalah semacam kemampuan untuk menampilkan suatu data dari database dimana \n",
    "# mengambil dari table-tabel yang ada di database, namun tabel tersebut tidak semua ditampilkan sesuai dengan yang kita inginkan."
   ]
  },
  {
   "cell_type": "markdown",
   "metadata": {},
   "source": [
    "Hubungan linear dalam dataset kedua adalah sama, tetapi plot dengan jelas menunjukkan bahwa ini bukan model yang baik:"
   ]
  },
  {
   "cell_type": "code",
   "execution_count": null,
   "metadata": {},
   "outputs": [],
   "source": [
    "#Menampilkan dataset 2 pada data anscombe\n",
    "sns.lmplot(x=\"x\", y=\"y\", data=anscombe.query(\"dataset == 'II'\"),\n",
    "           ci=None, scatter_kws={\"s\": 80});"
   ]
  },
  {
   "cell_type": "markdown",
   "metadata": {},
   "source": [
    "Di hadapan jenis hubungan tingkat tinggi ini, lmplot () dan regplot () dapat cocok dengan model regresi polinomial untuk mengeksplorasi jenis tren nonlinier sederhana dalam dataset:"
   ]
  },
  {
   "cell_type": "code",
   "execution_count": null,
   "metadata": {},
   "outputs": [],
   "source": [
    "# REGRESI POLINOMIAL ORDE 2\n",
    "sns.lmplot(x=\"x\", y=\"y\", data=anscombe.query(\"dataset == 'II'\"),\n",
    "           order=2, ci=None, scatter_kws={\"s\": 80});"
   ]
  },
  {
   "cell_type": "markdown",
   "metadata": {},
   "source": [
    "Masalah yang berbeda diajukan oleh pengamatan \"outlier\" yang menyimpang karena beberapa alasan selain hubungan utama yang diteliti:"
   ]
  },
  {
   "cell_type": "code",
   "execution_count": null,
   "metadata": {},
   "outputs": [],
   "source": [
    "#Menampilkan dataset 3 pada data anscombe\n",
    "\n",
    "sns.lmplot(x=\"x\", y=\"y\", data=anscombe.query(\"dataset == 'III'\"),\n",
    "           ci=None, scatter_kws={\"s\": 100});"
   ]
  },
  {
   "cell_type": "markdown",
   "metadata": {},
   "source": [
    "Di hadapan pencilan, dapat berguna untuk menyesuaikan regresi yang kuat, yang menggunakan fungsi kerugian yang berbeda untuk menurunkan residu yang relatif besar:"
   ]
  },
  {
   "cell_type": "code",
   "execution_count": null,
   "metadata": {},
   "outputs": [],
   "source": [
    "sns.lmplot(x=\"x\", y=\"y\", data=anscombe.query(\"dataset == 'III'\"),\n",
    "           robust=True, ci=None, scatter_kws={\"s\": 80});"
   ]
  },
  {
   "cell_type": "markdown",
   "metadata": {},
   "source": [
    "\n",
    "Ketika variabel y adalah biner, regresi linier sederhana juga \"berfungsi\" tetapi memberikan prediksi yang tidak masuk akal:"
   ]
  },
  {
   "cell_type": "code",
   "execution_count": null,
   "metadata": {},
   "outputs": [],
   "source": [
    "tips[\"big_tip\"] = (tips.tip / tips.total_bill) > .15\n",
    "sns.lmplot(x=\"total_bill\", y=\"big_tip\", data=tips,\n",
    "           y_jitter=.03); #semakin besar nilai \"jitter\" semakin banyak/jelas tumpukan titik2 pada grafik"
   ]
  },
  {
   "cell_type": "markdown",
   "metadata": {},
   "source": [
    "Solusi dalam kasus ini adalah mencocokkan regresi logistik, sehingga garis regresi menunjukkan perkiraan probabilitas y = 1 untuk nilai x yang diberikan:"
   ]
  },
  {
   "cell_type": "code",
   "execution_count": null,
   "metadata": {},
   "outputs": [],
   "source": [
    "sns.lmplot(x=\"total_bill\", y=\"big_tip\", data=tips,\n",
    "           logistic=True, y_jitter=.03);"
   ]
  },
  {
   "cell_type": "markdown",
   "metadata": {},
   "source": [
    "Perhatikan bahwa perkiraan regresi logistik jauh lebih intensif secara komputasi (ini juga berlaku untuk regresi yang kuat) daripada regresi sederhana, dan karena interval kepercayaan di sekitar garis regresi dihitung menggunakan prosedur bootstrap, Anda mungkin ingin mematikannya lebih cepat iterasi (menggunakan ci = Tidak Ada).\n",
    "\n",
    "Pendekatan yang sama sekali berbeda adalah agar sesuai dengan regresi nonparametrik menggunakan lowess lebih halus. Pendekatan ini memiliki asumsi paling sedikit, meskipun intensif secara komputasi dan saat ini interval kepercayaan tidak dihitung sama sekali:"
   ]
  },
  {
   "cell_type": "code",
   "execution_count": null,
   "metadata": {},
   "outputs": [],
   "source": [
    "sns.lmplot(x=\"total_bill\", y=\"tip\", data=tips,\n",
    "           lowess=True);"
   ]
  },
  {
   "cell_type": "markdown",
   "metadata": {},
   "source": [
    "Fungsi residplot () dapat menjadi alat yang berguna untuk memeriksa apakah model regresi sederhana sesuai untuk suatu dataset. Ini cocok dan menghilangkan regresi linier sederhana dan kemudian memplot nilai residual untuk setiap pengamatan. Idealnya, nilai-nilai ini harus tersebar secara acak di sekitar y = 0:"
   ]
  },
  {
   "cell_type": "code",
   "execution_count": null,
   "metadata": {},
   "outputs": [],
   "source": [
    "#Fungsi residplot () dapat menjadi alat yang berguna untuk memeriksa apakah model regresi sederhana sesuai untuk suatu dataset. Ini cocok dan menghilangkan regresi linier sederhana dan kemudian memplot nilai residual untuk setiap pengamatan.\n",
    "#Fungsi residplot () dapat menjadi alat yang berguna untuk memeriksa apakah model regresi sederhana sesuai untuk suatu dataset. Ini cocok dan menghilangkan regresi linier sederhana dan kemudian memplot nilai residual untuk setiap pengamatan. Idealnya, nilai-nilai ini harus tersebar secara acak di sekitar y = 0:\n",
    "sns.residplot(x=\"x\", y=\"y\", data=anscombe.query(\"dataset == 'I'\"),\n",
    "              scatter_kws={\"s\": 80});"
   ]
  },
  {
   "cell_type": "markdown",
   "metadata": {},
   "source": [
    "\n",
    "Jika ada struktur dalam residu, itu menunjukkan bahwa regresi linier sederhana tidak sesuai:"
   ]
  },
  {
   "cell_type": "code",
   "execution_count": null,
   "metadata": {},
   "outputs": [],
   "source": [
    "sns.residplot(x=\"x\", y=\"y\", data=anscombe.query(\"dataset == 'II'\"),\n",
    "              scatter_kws={\"s\": 80});"
   ]
  },
  {
   "cell_type": "markdown",
   "metadata": {},
   "source": [
    "# Conditioning on other variables"
   ]
  },
  {
   "cell_type": "markdown",
   "metadata": {},
   "source": [
    "Plot di atas menunjukkan banyak cara untuk mengeksplorasi hubungan antara sepasang variabel. Namun, sering kali, pertanyaan yang lebih menarik adalah \"bagaimana hubungan antara dua variabel ini berubah sebagai fungsi dari variabel ketiga?\" Di sinilah perbedaan antara regplot () dan lmplot () muncul. Meskipun regplot () selalu menunjukkan hubungan tunggal, lmplot () menggabungkan regplot () dengan FacetGrid untuk menyediakan antarmuka yang mudah untuk menunjukkan regresi linier pada plot “faceted” yang memungkinkan Anda menjelajahi interaksi dengan hingga tiga variabel kategori tambahan.\n",
    "\n",
    "Cara terbaik untuk memisahkan suatu hubungan adalah dengan memplot kedua level pada sumbu yang sama dan menggunakan warna untuk membedakannya:"
   ]
  },
  {
   "cell_type": "code",
   "execution_count": null,
   "metadata": {},
   "outputs": [],
   "source": [
    "sns.lmplot(x=\"total_bill\", y=\"tip\", hue=\"smoker\", data=tips);\n",
    "# fungsi \"hue\" untuk memasukan variabel smoker dalam grafik"
   ]
  },
  {
   "cell_type": "markdown",
   "metadata": {},
   "source": [
    "Selain warna, dimungkinkan untuk menggunakan marker sebar yang berbeda untuk membuat plot reproduksi menjadi hitam putih lebih baik. Anda juga memiliki kontrol penuh atas warna yang digunakan:"
   ]
  },
  {
   "cell_type": "code",
   "execution_count": null,
   "metadata": {
    "scrolled": true
   },
   "outputs": [],
   "source": [
    "sns.lmplot(x=\"total_bill\", y=\"tip\", hue=\"smoker\", data=tips,\n",
    "           markers=[\"o\", \"x\"], palette=\"Set1\");\n",
    "# fungsi \"makers\" untuk mengatur bentuk sebaran yang berbeda\n",
    "# fungsi \"palatte\" untuk mengontrol warna yang di gunakan"
   ]
  },
  {
   "cell_type": "markdown",
   "metadata": {},
   "source": [
    "Untuk menambahkan variabel lain, Anda bisa menggambar beberapa \"segi\" yang setiap tingkat variabel muncul di baris atau kolom kisi:"
   ]
  },
  {
   "cell_type": "code",
   "execution_count": null,
   "metadata": {},
   "outputs": [],
   "source": [
    "sns.lmplot(x=\"total_bill\", y=\"tip\", hue=\"smoker\", col=\"time\", data=tips,palette=\"Set1\");"
   ]
  },
  {
   "cell_type": "code",
   "execution_count": null,
   "metadata": {
    "scrolled": true
   },
   "outputs": [],
   "source": [
    "sns.lmplot(x=\"total_bill\", y=\"tip\", hue=\"smoker\",\n",
    "           col=\"time\", row=\"sex\", data=tips);"
   ]
  },
  {
   "cell_type": "markdown",
   "metadata": {},
   "source": [
    "# Mengontrol ukuran dan bentuk plot\n",
    "Sebelumnya kami mencatat bahwa plot default yang dibuat oleh regplot () dan lmplot () terlihat sama tetapi pada sumbu yang memiliki ukuran dan bentuk yang berbeda. Ini karena regplot () adalah fungsi “level-sumbu” yang menarik ke sumbu tertentu. Ini berarti Anda dapat membuat angka multi-panel sendiri dan mengontrol dengan tepat kemana plot regresi berjalan. Jika tidak ada objek sumbu disediakan secara eksplisit, itu hanya menggunakan sumbu \"saat ini aktif\", itulah sebabnya plot default memiliki ukuran dan bentuk yang sama seperti kebanyakan fungsi matplotlib lainnya. Untuk mengontrol ukuran, Anda perlu membuat objek gambar sendiri."
   ]
  },
  {
   "cell_type": "code",
   "execution_count": null,
   "metadata": {},
   "outputs": [],
   "source": [
    "f, ax = plt.subplots(figsize=(5, 6))\n",
    "sns.regplot(x=\"total_bill\", y=\"tip\", data=tips, ax=ax);"
   ]
  },
  {
   "cell_type": "markdown",
   "metadata": {},
   "source": [
    "Sebaliknya, ukuran dan bentuk gambar lmplot () dikontrol melalui antarmuka FacetGrid menggunakan parameter ukuran dan aspek, yang berlaku untuk setiap aspek dalam plot, bukan pada keseluruhan gambar itu sendiri:"
   ]
  },
  {
   "cell_type": "code",
   "execution_count": null,
   "metadata": {},
   "outputs": [],
   "source": [
    "sns.lmplot(x=\"total_bill\", y=\"tip\", col=\"day\", data=tips);"
   ]
  },
  {
   "cell_type": "code",
   "execution_count": null,
   "metadata": {},
   "outputs": [],
   "source": [
    "sns.lmplot(x=\"total_bill\", y=\"tip\", col=\"day\", data=tips,\n",
    "           aspect=.5);\n",
    "# fungsi \"aspect\" mengatur ukuran plot"
   ]
  },
  {
   "cell_type": "markdown",
   "metadata": {},
   "source": [
    "# Merencanakan regresi dalam konteks lain\n",
    "Beberapa fungsi dasar laut lainnya menggunakan regplot () dalam konteks plot yang lebih besar dan lebih kompleks. Yang pertama adalah fungsi jointplot () yang kami perkenalkan dalam tutorial distribusi. Selain gaya plot yang telah dibahas sebelumnya, jointplot () dapat menggunakan regplot () untuk menunjukkan kecocokan regresi linier pada sumbu bersama dengan mengirimkan kind = \"reg\":"
   ]
  },
  {
   "cell_type": "code",
   "execution_count": null,
   "metadata": {
    "scrolled": true
   },
   "outputs": [],
   "source": [
    "sns.jointplot(x=\"total_bill\", y=\"tip\", data=tips, kind=\"reg\");\n",
    "#jointplot () dapat menggunakan regplot () untuk menunjukkan kecocokan regresi linier pada sumbu bersama dengan mengirimkan kind = \"reg\":"
   ]
  },
  {
   "cell_type": "markdown",
   "metadata": {},
   "source": [
    "Menggunakan fungsi pairplot () dengan kind = \"reg\" menggabungkan regplot () dan PairGrid untuk menunjukkan hubungan linier antara variabel dalam dataset. Perhatikan bagaimana ini berbeda dari lmplot (). Pada gambar di bawah ini, kedua sumbu tidak menunjukkan hubungan yang sama dikondisikan pada dua tingkat variabel ketiga; alih-alih, PairGrid () digunakan untuk menunjukkan banyak hubungan antara pasangan variabel yang berbeda dalam suatu dataset:"
   ]
  },
  {
   "cell_type": "code",
   "execution_count": null,
   "metadata": {},
   "outputs": [],
   "source": [
    "sns.pairplot(tips, x_vars=[\"total_bill\", \"size\"], y_vars=[\"tip\"],\n",
    "            kind=\"reg\");"
   ]
  },
  {
   "cell_type": "markdown",
   "metadata": {},
   "source": [
    "Like lmplot(), but unlike jointplot(), conditioning on an additional categorical variable is built into pairplot() using the hue parameter:"
   ]
  },
  {
   "cell_type": "code",
   "execution_count": null,
   "metadata": {},
   "outputs": [],
   "source": [
    "sns.pairplot(tips, x_vars=[\"total_bill\", \"size\"], y_vars=[\"tip\"],\n",
    "             hue=\"smoker\", kind=\"reg\");"
   ]
  },
  {
   "cell_type": "code",
   "execution_count": null,
   "metadata": {},
   "outputs": [],
   "source": []
  }
 ],
 "metadata": {
  "kernelspec": {
   "display_name": "Python 3",
   "language": "python",
   "name": "python3"
  },
  "language_info": {
   "codemirror_mode": {
    "name": "ipython",
    "version": 3
   },
   "file_extension": ".py",
   "mimetype": "text/x-python",
   "name": "python",
   "nbconvert_exporter": "python",
   "pygments_lexer": "ipython3",
   "version": "3.7.3"
  }
 },
 "nbformat": 4,
 "nbformat_minor": 2
}
